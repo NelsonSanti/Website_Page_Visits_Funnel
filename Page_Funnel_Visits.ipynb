{
 "cells": [
  {
   "cell_type": "code",
   "execution_count": 26,
   "metadata": {},
   "outputs": [],
   "source": [
    "import pandas as pd"
   ]
  },
  {
   "cell_type": "markdown",
   "metadata": {},
   "source": [
    "Importing all the files"
   ]
  },
  {
   "cell_type": "code",
   "execution_count": 27,
   "metadata": {},
   "outputs": [],
   "source": [
    "visits = pd.read_csv('visits.csv',\n",
    "                     parse_dates=[1])\n",
    "cart = pd.read_csv('cart.csv',\n",
    "                   parse_dates=[1])\n",
    "                   \n",
    "checkout = pd.read_csv('checkout.csv',\n",
    "                       parse_dates=[1])\n",
    "purchase = pd.read_csv('purchase.csv',\n",
    "                       parse_dates=[1])"
   ]
  },
  {
   "cell_type": "markdown",
   "metadata": {},
   "source": [
    "Step 1: Inspecting the DataFrames using `print` and `head`"
   ]
  },
  {
   "cell_type": "code",
   "execution_count": 72,
   "metadata": {},
   "outputs": [
    {
     "name": "stdout",
     "output_type": "stream",
     "text": [
      "                                user_id          visit_time\n",
      "0  943647ef-3682-4750-a2e1-918ba6f16188 2017-04-07 15:14:00\n",
      "1  0c3a3dd0-fb64-4eac-bf84-ba069ce409f2 2017-01-26 14:24:00\n",
      "2  6e0b2d60-4027-4d9a-babd-0e7d40859fb1 2017-08-20 08:23:00\n",
      "3  6879527e-c5a6-4d14-b2da-50b85212b0ab 2017-11-04 18:15:00\n",
      "4  a84327ff-5daa-4ba1-b789-d5b4caf81e96 2017-02-27 11:25:00\n",
      "                                user_id           cart_time\n",
      "0  2be90e7c-9cca-44e0-bcc5-124b945ff168 2017-11-07 20:45:00\n",
      "1  4397f73f-1da3-4ab3-91af-762792e25973 2017-05-27 01:35:00\n",
      "2  a9db3d4b-0a0a-4398-a55a-ebb2c7adf663 2017-03-04 10:38:00\n",
      "3  b594862a-36c5-47d5-b818-6e9512b939b3 2017-09-27 08:22:00\n",
      "4  a68a16e2-94f0-4ce8-8ce3-784af0bbb974 2017-07-26 15:48:00\n",
      "                                user_id       checkout_time\n",
      "0  d33bdc47-4afa-45bc-b4e4-dbe948e34c0d 2017-06-25 09:29:00\n",
      "1  4ac186f0-9954-4fea-8a27-c081e428e34e 2017-04-07 20:11:00\n",
      "2  3c9c78a7-124a-4b77-8d2e-e1926e011e7d 2017-07-13 11:38:00\n",
      "3  89fe330a-8966-4756-8f7c-3bdbcd47279a 2017-04-20 16:15:00\n",
      "4  3ccdaf69-2d30-40de-b083-51372881aedd 2017-01-08 20:52:00\n",
      "                                user_id       purchase_time\n",
      "0  4b44ace4-2721-47a0-b24b-15fbfa2abf85 2017-05-11 04:25:00\n",
      "1  02e684ae-a448-408f-a9ff-dcb4a5c99aac 2017-09-05 08:45:00\n",
      "2  4b4bc391-749e-4b90-ab8f-4f6e3c84d6dc 2017-11-20 20:49:00\n",
      "3  a5dbb25f-3c36-4103-9030-9f7c6241cd8d 2017-01-22 15:18:00\n",
      "4  46a3186d-7f5a-4ab9-87af-84d05bfd4867 2017-06-11 11:32:00\n"
     ]
    }
   ],
   "source": [
    "print(visits.head())\n",
    "print(cart.head())\n",
    "print(checkout.head())\n",
    "print(purchase.head())"
   ]
  },
  {
   "cell_type": "markdown",
   "metadata": {},
   "source": [
    "Step 2: Checking all users that have visited the website and those who added a t-shirt to the cart"
   ]
  },
  {
   "cell_type": "code",
   "execution_count": 73,
   "metadata": {},
   "outputs": [
    {
     "data": {
      "text/html": [
       "<div>\n",
       "<style scoped>\n",
       "    .dataframe tbody tr th:only-of-type {\n",
       "        vertical-align: middle;\n",
       "    }\n",
       "\n",
       "    .dataframe tbody tr th {\n",
       "        vertical-align: top;\n",
       "    }\n",
       "\n",
       "    .dataframe thead th {\n",
       "        text-align: right;\n",
       "    }\n",
       "</style>\n",
       "<table border=\"1\" class=\"dataframe\">\n",
       "  <thead>\n",
       "    <tr style=\"text-align: right;\">\n",
       "      <th></th>\n",
       "      <th>user_id</th>\n",
       "      <th>visit_time</th>\n",
       "      <th>cart_time</th>\n",
       "    </tr>\n",
       "  </thead>\n",
       "  <tbody>\n",
       "    <tr>\n",
       "      <th>0</th>\n",
       "      <td>943647ef-3682-4750-a2e1-918ba6f16188</td>\n",
       "      <td>2017-04-07 15:14:00</td>\n",
       "      <td>NaT</td>\n",
       "    </tr>\n",
       "    <tr>\n",
       "      <th>1</th>\n",
       "      <td>0c3a3dd0-fb64-4eac-bf84-ba069ce409f2</td>\n",
       "      <td>2017-01-26 14:24:00</td>\n",
       "      <td>2017-01-26 14:44:00</td>\n",
       "    </tr>\n",
       "    <tr>\n",
       "      <th>2</th>\n",
       "      <td>6e0b2d60-4027-4d9a-babd-0e7d40859fb1</td>\n",
       "      <td>2017-08-20 08:23:00</td>\n",
       "      <td>2017-08-20 08:31:00</td>\n",
       "    </tr>\n",
       "    <tr>\n",
       "      <th>3</th>\n",
       "      <td>6879527e-c5a6-4d14-b2da-50b85212b0ab</td>\n",
       "      <td>2017-11-04 18:15:00</td>\n",
       "      <td>NaT</td>\n",
       "    </tr>\n",
       "    <tr>\n",
       "      <th>4</th>\n",
       "      <td>a84327ff-5daa-4ba1-b789-d5b4caf81e96</td>\n",
       "      <td>2017-02-27 11:25:00</td>\n",
       "      <td>NaT</td>\n",
       "    </tr>\n",
       "    <tr>\n",
       "      <th>...</th>\n",
       "      <td>...</td>\n",
       "      <td>...</td>\n",
       "      <td>...</td>\n",
       "    </tr>\n",
       "    <tr>\n",
       "      <th>1995</th>\n",
       "      <td>33913ac2-03da-45ae-8fc3-fea39df827c6</td>\n",
       "      <td>2017-03-25 03:29:00</td>\n",
       "      <td>NaT</td>\n",
       "    </tr>\n",
       "    <tr>\n",
       "      <th>1996</th>\n",
       "      <td>4f850132-b99d-4623-80e6-6e61d003577e</td>\n",
       "      <td>2017-01-08 09:57:00</td>\n",
       "      <td>NaT</td>\n",
       "    </tr>\n",
       "    <tr>\n",
       "      <th>1997</th>\n",
       "      <td>f0830b9b-1f5c-4e74-b63d-3f847cc6ce70</td>\n",
       "      <td>2017-09-07 12:56:00</td>\n",
       "      <td>NaT</td>\n",
       "    </tr>\n",
       "    <tr>\n",
       "      <th>1998</th>\n",
       "      <td>b01bffa7-63ba-4cd3-9d93-eb1477c23831</td>\n",
       "      <td>2017-07-20 04:37:00</td>\n",
       "      <td>NaT</td>\n",
       "    </tr>\n",
       "    <tr>\n",
       "      <th>1999</th>\n",
       "      <td>0336ca81-8d68-443f-9248-ac0b8ad147d5</td>\n",
       "      <td>2017-11-15 10:11:00</td>\n",
       "      <td>NaT</td>\n",
       "    </tr>\n",
       "  </tbody>\n",
       "</table>\n",
       "<p>2000 rows × 3 columns</p>\n",
       "</div>"
      ],
      "text/plain": [
       "                                   user_id          visit_time  \\\n",
       "0     943647ef-3682-4750-a2e1-918ba6f16188 2017-04-07 15:14:00   \n",
       "1     0c3a3dd0-fb64-4eac-bf84-ba069ce409f2 2017-01-26 14:24:00   \n",
       "2     6e0b2d60-4027-4d9a-babd-0e7d40859fb1 2017-08-20 08:23:00   \n",
       "3     6879527e-c5a6-4d14-b2da-50b85212b0ab 2017-11-04 18:15:00   \n",
       "4     a84327ff-5daa-4ba1-b789-d5b4caf81e96 2017-02-27 11:25:00   \n",
       "...                                    ...                 ...   \n",
       "1995  33913ac2-03da-45ae-8fc3-fea39df827c6 2017-03-25 03:29:00   \n",
       "1996  4f850132-b99d-4623-80e6-6e61d003577e 2017-01-08 09:57:00   \n",
       "1997  f0830b9b-1f5c-4e74-b63d-3f847cc6ce70 2017-09-07 12:56:00   \n",
       "1998  b01bffa7-63ba-4cd3-9d93-eb1477c23831 2017-07-20 04:37:00   \n",
       "1999  0336ca81-8d68-443f-9248-ac0b8ad147d5 2017-11-15 10:11:00   \n",
       "\n",
       "               cart_time  \n",
       "0                    NaT  \n",
       "1    2017-01-26 14:44:00  \n",
       "2    2017-08-20 08:31:00  \n",
       "3                    NaT  \n",
       "4                    NaT  \n",
       "...                  ...  \n",
       "1995                 NaT  \n",
       "1996                 NaT  \n",
       "1997                 NaT  \n",
       "1998                 NaT  \n",
       "1999                 NaT  \n",
       "\n",
       "[2000 rows x 3 columns]"
      ]
     },
     "execution_count": 73,
     "metadata": {},
     "output_type": "execute_result"
    }
   ],
   "source": [
    "left_merging_visits = pd.merge(visits, cart, how='left')\n",
    "left_merging_visits"
   ]
  },
  {
   "cell_type": "markdown",
   "metadata": {},
   "source": [
    "Step 3: How long is `left_merging_visits`?"
   ]
  },
  {
   "cell_type": "code",
   "execution_count": 74,
   "metadata": {},
   "outputs": [
    {
     "data": {
      "text/plain": [
       "2000"
      ]
     },
     "execution_count": 74,
     "metadata": {},
     "output_type": "execute_result"
    }
   ],
   "source": [
    "# My left merged DataFrame is 2000 rows in length\n",
    "left_merging_visits_length = len(left_merging_visits)\n",
    "left_merging_visits_length"
   ]
  },
  {
   "cell_type": "markdown",
   "metadata": {},
   "source": [
    "Step 4: How many timestamps are null for `cart_time`?"
   ]
  },
  {
   "cell_type": "code",
   "execution_count": 75,
   "metadata": {},
   "outputs": [
    {
     "name": "stdout",
     "output_type": "stream",
     "text": [
      "1652\n"
     ]
    }
   ],
   "source": [
    "#1652 timestamps are null for cart_time\n",
    "null_timestamps_in_cart = left_merging_visits[left_merging_visits.cart_time.isnull()]\n",
    "#print(null_timestamps_in_cart)\n",
    "print(len(null_timestamps_in_cart))"
   ]
  },
  {
   "cell_type": "markdown",
   "metadata": {},
   "source": [
    "Step 5: What percentage only visited?"
   ]
  },
  {
   "cell_type": "code",
   "execution_count": 76,
   "metadata": {},
   "outputs": [
    {
     "name": "stdout",
     "output_type": "stream",
     "text": [
      "The percentage of users that visited the website but ended up not placing a t-shirt in their cart is 82.60%.\n"
     ]
    }
   ],
   "source": [
    "null_timestamps_in_cart = len(left_merging_visits[left_merging_visits.cart_time.isnull()])\n",
    "\n",
    "percent_of_users_without_shirt_in_cart = (float(null_timestamps_in_cart/left_merging_visits_length))*100\n",
    "\n",
    "print(f\"The percentage of users that visited the website but ended up not placing a t-shirt in their cart is {percent_of_users_without_shirt_in_cart:.2f}%.\")\n",
    "#82.60 % is the answer"
   ]
  },
  {
   "cell_type": "markdown",
   "metadata": {},
   "source": [
    "Step 6: What percentage placed a t-shirt in their cart but did not checkout?"
   ]
  },
  {
   "cell_type": "code",
   "execution_count": 77,
   "metadata": {},
   "outputs": [
    {
     "name": "stdout",
     "output_type": "stream",
     "text": [
      "The percentage of users that put items in their cart, but did not proceed to checkout is 35.06%.\n"
     ]
    }
   ],
   "source": [
    "left_merging_cart = pd.merge(cart, checkout, how='left')\n",
    "#print(left_merging_cart)\n",
    "null_checkout_values = left_merging_cart[left_merging_cart.checkout_time.isnull()]\n",
    "#print(null_checkout_values)\n",
    "\n",
    "cart_length = len(cart)\n",
    "null_checkout_values_length = len(null_checkout_values)\n",
    "\n",
    "percent_users_cart_not_checkout = float(null_checkout_values_length/cart_length)*100\n",
    "\n",
    "print(f\"The percentage of users that put items in their cart, but did not proceed to checkout is {percent_users_cart_not_checkout:.2f}%.\")\n",
    "#35.06% is the answer."
   ]
  },
  {
   "cell_type": "markdown",
   "metadata": {},
   "source": [
    "Step 7: Merge it all together"
   ]
  },
  {
   "cell_type": "code",
   "execution_count": 78,
   "metadata": {},
   "outputs": [
    {
     "data": {
      "text/html": [
       "<div>\n",
       "<style scoped>\n",
       "    .dataframe tbody tr th:only-of-type {\n",
       "        vertical-align: middle;\n",
       "    }\n",
       "\n",
       "    .dataframe tbody tr th {\n",
       "        vertical-align: top;\n",
       "    }\n",
       "\n",
       "    .dataframe thead th {\n",
       "        text-align: right;\n",
       "    }\n",
       "</style>\n",
       "<table border=\"1\" class=\"dataframe\">\n",
       "  <thead>\n",
       "    <tr style=\"text-align: right;\">\n",
       "      <th></th>\n",
       "      <th>user_id</th>\n",
       "      <th>visit_time</th>\n",
       "      <th>cart_time</th>\n",
       "      <th>checkout_time</th>\n",
       "      <th>purchase_time</th>\n",
       "    </tr>\n",
       "  </thead>\n",
       "  <tbody>\n",
       "    <tr>\n",
       "      <th>0</th>\n",
       "      <td>943647ef-3682-4750-a2e1-918ba6f16188</td>\n",
       "      <td>2017-04-07 15:14:00</td>\n",
       "      <td>NaT</td>\n",
       "      <td>NaT</td>\n",
       "      <td>NaT</td>\n",
       "    </tr>\n",
       "    <tr>\n",
       "      <th>1</th>\n",
       "      <td>0c3a3dd0-fb64-4eac-bf84-ba069ce409f2</td>\n",
       "      <td>2017-01-26 14:24:00</td>\n",
       "      <td>2017-01-26 14:44:00</td>\n",
       "      <td>2017-01-26 14:54:00</td>\n",
       "      <td>2017-01-26 15:08:00</td>\n",
       "    </tr>\n",
       "    <tr>\n",
       "      <th>2</th>\n",
       "      <td>6e0b2d60-4027-4d9a-babd-0e7d40859fb1</td>\n",
       "      <td>2017-08-20 08:23:00</td>\n",
       "      <td>2017-08-20 08:31:00</td>\n",
       "      <td>NaT</td>\n",
       "      <td>NaT</td>\n",
       "    </tr>\n",
       "    <tr>\n",
       "      <th>3</th>\n",
       "      <td>6879527e-c5a6-4d14-b2da-50b85212b0ab</td>\n",
       "      <td>2017-11-04 18:15:00</td>\n",
       "      <td>NaT</td>\n",
       "      <td>NaT</td>\n",
       "      <td>NaT</td>\n",
       "    </tr>\n",
       "    <tr>\n",
       "      <th>4</th>\n",
       "      <td>a84327ff-5daa-4ba1-b789-d5b4caf81e96</td>\n",
       "      <td>2017-02-27 11:25:00</td>\n",
       "      <td>NaT</td>\n",
       "      <td>NaT</td>\n",
       "      <td>NaT</td>\n",
       "    </tr>\n",
       "    <tr>\n",
       "      <th>...</th>\n",
       "      <td>...</td>\n",
       "      <td>...</td>\n",
       "      <td>...</td>\n",
       "      <td>...</td>\n",
       "      <td>...</td>\n",
       "    </tr>\n",
       "    <tr>\n",
       "      <th>2103</th>\n",
       "      <td>33913ac2-03da-45ae-8fc3-fea39df827c6</td>\n",
       "      <td>2017-03-25 03:29:00</td>\n",
       "      <td>NaT</td>\n",
       "      <td>NaT</td>\n",
       "      <td>NaT</td>\n",
       "    </tr>\n",
       "    <tr>\n",
       "      <th>2104</th>\n",
       "      <td>4f850132-b99d-4623-80e6-6e61d003577e</td>\n",
       "      <td>2017-01-08 09:57:00</td>\n",
       "      <td>NaT</td>\n",
       "      <td>NaT</td>\n",
       "      <td>NaT</td>\n",
       "    </tr>\n",
       "    <tr>\n",
       "      <th>2105</th>\n",
       "      <td>f0830b9b-1f5c-4e74-b63d-3f847cc6ce70</td>\n",
       "      <td>2017-09-07 12:56:00</td>\n",
       "      <td>NaT</td>\n",
       "      <td>NaT</td>\n",
       "      <td>NaT</td>\n",
       "    </tr>\n",
       "    <tr>\n",
       "      <th>2106</th>\n",
       "      <td>b01bffa7-63ba-4cd3-9d93-eb1477c23831</td>\n",
       "      <td>2017-07-20 04:37:00</td>\n",
       "      <td>NaT</td>\n",
       "      <td>NaT</td>\n",
       "      <td>NaT</td>\n",
       "    </tr>\n",
       "    <tr>\n",
       "      <th>2107</th>\n",
       "      <td>0336ca81-8d68-443f-9248-ac0b8ad147d5</td>\n",
       "      <td>2017-11-15 10:11:00</td>\n",
       "      <td>NaT</td>\n",
       "      <td>NaT</td>\n",
       "      <td>NaT</td>\n",
       "    </tr>\n",
       "  </tbody>\n",
       "</table>\n",
       "<p>2108 rows × 5 columns</p>\n",
       "</div>"
      ],
      "text/plain": [
       "                                   user_id          visit_time  \\\n",
       "0     943647ef-3682-4750-a2e1-918ba6f16188 2017-04-07 15:14:00   \n",
       "1     0c3a3dd0-fb64-4eac-bf84-ba069ce409f2 2017-01-26 14:24:00   \n",
       "2     6e0b2d60-4027-4d9a-babd-0e7d40859fb1 2017-08-20 08:23:00   \n",
       "3     6879527e-c5a6-4d14-b2da-50b85212b0ab 2017-11-04 18:15:00   \n",
       "4     a84327ff-5daa-4ba1-b789-d5b4caf81e96 2017-02-27 11:25:00   \n",
       "...                                    ...                 ...   \n",
       "2103  33913ac2-03da-45ae-8fc3-fea39df827c6 2017-03-25 03:29:00   \n",
       "2104  4f850132-b99d-4623-80e6-6e61d003577e 2017-01-08 09:57:00   \n",
       "2105  f0830b9b-1f5c-4e74-b63d-3f847cc6ce70 2017-09-07 12:56:00   \n",
       "2106  b01bffa7-63ba-4cd3-9d93-eb1477c23831 2017-07-20 04:37:00   \n",
       "2107  0336ca81-8d68-443f-9248-ac0b8ad147d5 2017-11-15 10:11:00   \n",
       "\n",
       "               cart_time       checkout_time       purchase_time  \n",
       "0                    NaT                 NaT                 NaT  \n",
       "1    2017-01-26 14:44:00 2017-01-26 14:54:00 2017-01-26 15:08:00  \n",
       "2    2017-08-20 08:31:00                 NaT                 NaT  \n",
       "3                    NaT                 NaT                 NaT  \n",
       "4                    NaT                 NaT                 NaT  \n",
       "...                  ...                 ...                 ...  \n",
       "2103                 NaT                 NaT                 NaT  \n",
       "2104                 NaT                 NaT                 NaT  \n",
       "2105                 NaT                 NaT                 NaT  \n",
       "2106                 NaT                 NaT                 NaT  \n",
       "2107                 NaT                 NaT                 NaT  \n",
       "\n",
       "[2108 rows x 5 columns]"
      ]
     },
     "execution_count": 78,
     "metadata": {},
     "output_type": "execute_result"
    }
   ],
   "source": [
    "all_data = left_merging_visits.merge(left_merging_cart, how='left').merge(purchase, how='left')\n",
    "all_data"
   ]
  },
  {
   "cell_type": "markdown",
   "metadata": {},
   "source": [
    "Step 8: Percentage of users who got to checkout but did not purchase"
   ]
  },
  {
   "cell_type": "code",
   "execution_count": 79,
   "metadata": {},
   "outputs": [
    {
     "name": "stdout",
     "output_type": "stream",
     "text": [
      "The percentage of users proceeded to checkout, but did not purchase a t-shirt is 24.55%\n"
     ]
    }
   ],
   "source": [
    "checkout_length = len(all_data[all_data.checkout_time.notnull()])\n",
    "purchase_length = len(all_data[(all_data.purchase_time.isnull()) & (all_data.checkout_time.notnull())])\n",
    "\n",
    "percentage_checkout_not_purchase = float(purchase_length/checkout_length)*100\n",
    "\n",
    "print(f\"The percentage of users proceeded to checkout, but did not purchase a t-shirt is {percentage_checkout_not_purchase:.2f}%\")"
   ]
  },
  {
   "cell_type": "markdown",
   "metadata": {},
   "source": [
    "Step 9: checking each part of the funnel, printing all 3 of them again"
   ]
  },
  {
   "cell_type": "code",
   "execution_count": 80,
   "metadata": {},
   "outputs": [
    {
     "name": "stdout",
     "output_type": "stream",
     "text": [
      "The percentage of users that visited the website but ended up not placing a t-shirt in their cart is 82.60%.\n",
      "\n",
      "\n",
      "The percentage of users that put items in their cart, but did not proceed to checkout is 35.06%.\n",
      "\n",
      "\n",
      "The percentage of users proceeded to checkout, but did not purchase a t-shirt is 24.55%.\n"
     ]
    }
   ],
   "source": [
    "print(f\"The percentage of users that visited the website but ended up not placing a t-shirt in their cart is {percent_of_users_without_shirt_in_cart:.2f}%.\")\n",
    "print('\\n')\n",
    "print(f\"The percentage of users that put items in their cart, but did not proceed to checkout is {percent_users_cart_not_checkout:.2f}%.\")\n",
    "print(\"\\n\")\n",
    "print(f\"The percentage of users proceeded to checkout, but did not purchase a t-shirt is {percentage_checkout_not_purchase:.2f}%.\")"
   ]
  },
  {
   "cell_type": "markdown",
   "metadata": {},
   "source": [
    "*The weakest part of the funnel is clearly getting a person who visited the site to add a tshirt to their cart. Once they've added a t-shirt to their cart it is fairly likely they end up purchasing it. A suggestion could be to make the add-to-cart button more prominent on the front page.*\n",
    "\n",
    "\n",
    "Step 10: adding a new column to check the time people take to purchase"
   ]
  },
  {
   "cell_type": "code",
   "execution_count": 81,
   "metadata": {},
   "outputs": [],
   "source": [
    "all_data['time_to_purchase'] = all_data.purchase_time - all_data.visit_time"
   ]
  },
  {
   "cell_type": "markdown",
   "metadata": {},
   "source": [
    "Step 11: examining the results"
   ]
  },
  {
   "cell_type": "code",
   "execution_count": 82,
   "metadata": {},
   "outputs": [
    {
     "data": {
      "text/html": [
       "<div>\n",
       "<style scoped>\n",
       "    .dataframe tbody tr th:only-of-type {\n",
       "        vertical-align: middle;\n",
       "    }\n",
       "\n",
       "    .dataframe tbody tr th {\n",
       "        vertical-align: top;\n",
       "    }\n",
       "\n",
       "    .dataframe thead th {\n",
       "        text-align: right;\n",
       "    }\n",
       "</style>\n",
       "<table border=\"1\" class=\"dataframe\">\n",
       "  <thead>\n",
       "    <tr style=\"text-align: right;\">\n",
       "      <th></th>\n",
       "      <th>user_id</th>\n",
       "      <th>visit_time</th>\n",
       "      <th>cart_time</th>\n",
       "      <th>checkout_time</th>\n",
       "      <th>purchase_time</th>\n",
       "      <th>time_to_purchase</th>\n",
       "    </tr>\n",
       "  </thead>\n",
       "  <tbody>\n",
       "    <tr>\n",
       "      <th>0</th>\n",
       "      <td>943647ef-3682-4750-a2e1-918ba6f16188</td>\n",
       "      <td>2017-04-07 15:14:00</td>\n",
       "      <td>NaT</td>\n",
       "      <td>NaT</td>\n",
       "      <td>NaT</td>\n",
       "      <td>NaT</td>\n",
       "    </tr>\n",
       "    <tr>\n",
       "      <th>1</th>\n",
       "      <td>0c3a3dd0-fb64-4eac-bf84-ba069ce409f2</td>\n",
       "      <td>2017-01-26 14:24:00</td>\n",
       "      <td>2017-01-26 14:44:00</td>\n",
       "      <td>2017-01-26 14:54:00</td>\n",
       "      <td>2017-01-26 15:08:00</td>\n",
       "      <td>0 days 00:44:00</td>\n",
       "    </tr>\n",
       "    <tr>\n",
       "      <th>2</th>\n",
       "      <td>6e0b2d60-4027-4d9a-babd-0e7d40859fb1</td>\n",
       "      <td>2017-08-20 08:23:00</td>\n",
       "      <td>2017-08-20 08:31:00</td>\n",
       "      <td>NaT</td>\n",
       "      <td>NaT</td>\n",
       "      <td>NaT</td>\n",
       "    </tr>\n",
       "    <tr>\n",
       "      <th>3</th>\n",
       "      <td>6879527e-c5a6-4d14-b2da-50b85212b0ab</td>\n",
       "      <td>2017-11-04 18:15:00</td>\n",
       "      <td>NaT</td>\n",
       "      <td>NaT</td>\n",
       "      <td>NaT</td>\n",
       "      <td>NaT</td>\n",
       "    </tr>\n",
       "    <tr>\n",
       "      <th>4</th>\n",
       "      <td>a84327ff-5daa-4ba1-b789-d5b4caf81e96</td>\n",
       "      <td>2017-02-27 11:25:00</td>\n",
       "      <td>NaT</td>\n",
       "      <td>NaT</td>\n",
       "      <td>NaT</td>\n",
       "      <td>NaT</td>\n",
       "    </tr>\n",
       "    <tr>\n",
       "      <th>...</th>\n",
       "      <td>...</td>\n",
       "      <td>...</td>\n",
       "      <td>...</td>\n",
       "      <td>...</td>\n",
       "      <td>...</td>\n",
       "      <td>...</td>\n",
       "    </tr>\n",
       "    <tr>\n",
       "      <th>2103</th>\n",
       "      <td>33913ac2-03da-45ae-8fc3-fea39df827c6</td>\n",
       "      <td>2017-03-25 03:29:00</td>\n",
       "      <td>NaT</td>\n",
       "      <td>NaT</td>\n",
       "      <td>NaT</td>\n",
       "      <td>NaT</td>\n",
       "    </tr>\n",
       "    <tr>\n",
       "      <th>2104</th>\n",
       "      <td>4f850132-b99d-4623-80e6-6e61d003577e</td>\n",
       "      <td>2017-01-08 09:57:00</td>\n",
       "      <td>NaT</td>\n",
       "      <td>NaT</td>\n",
       "      <td>NaT</td>\n",
       "      <td>NaT</td>\n",
       "    </tr>\n",
       "    <tr>\n",
       "      <th>2105</th>\n",
       "      <td>f0830b9b-1f5c-4e74-b63d-3f847cc6ce70</td>\n",
       "      <td>2017-09-07 12:56:00</td>\n",
       "      <td>NaT</td>\n",
       "      <td>NaT</td>\n",
       "      <td>NaT</td>\n",
       "      <td>NaT</td>\n",
       "    </tr>\n",
       "    <tr>\n",
       "      <th>2106</th>\n",
       "      <td>b01bffa7-63ba-4cd3-9d93-eb1477c23831</td>\n",
       "      <td>2017-07-20 04:37:00</td>\n",
       "      <td>NaT</td>\n",
       "      <td>NaT</td>\n",
       "      <td>NaT</td>\n",
       "      <td>NaT</td>\n",
       "    </tr>\n",
       "    <tr>\n",
       "      <th>2107</th>\n",
       "      <td>0336ca81-8d68-443f-9248-ac0b8ad147d5</td>\n",
       "      <td>2017-11-15 10:11:00</td>\n",
       "      <td>NaT</td>\n",
       "      <td>NaT</td>\n",
       "      <td>NaT</td>\n",
       "      <td>NaT</td>\n",
       "    </tr>\n",
       "  </tbody>\n",
       "</table>\n",
       "<p>2108 rows × 6 columns</p>\n",
       "</div>"
      ],
      "text/plain": [
       "                                   user_id          visit_time  \\\n",
       "0     943647ef-3682-4750-a2e1-918ba6f16188 2017-04-07 15:14:00   \n",
       "1     0c3a3dd0-fb64-4eac-bf84-ba069ce409f2 2017-01-26 14:24:00   \n",
       "2     6e0b2d60-4027-4d9a-babd-0e7d40859fb1 2017-08-20 08:23:00   \n",
       "3     6879527e-c5a6-4d14-b2da-50b85212b0ab 2017-11-04 18:15:00   \n",
       "4     a84327ff-5daa-4ba1-b789-d5b4caf81e96 2017-02-27 11:25:00   \n",
       "...                                    ...                 ...   \n",
       "2103  33913ac2-03da-45ae-8fc3-fea39df827c6 2017-03-25 03:29:00   \n",
       "2104  4f850132-b99d-4623-80e6-6e61d003577e 2017-01-08 09:57:00   \n",
       "2105  f0830b9b-1f5c-4e74-b63d-3f847cc6ce70 2017-09-07 12:56:00   \n",
       "2106  b01bffa7-63ba-4cd3-9d93-eb1477c23831 2017-07-20 04:37:00   \n",
       "2107  0336ca81-8d68-443f-9248-ac0b8ad147d5 2017-11-15 10:11:00   \n",
       "\n",
       "               cart_time       checkout_time       purchase_time  \\\n",
       "0                    NaT                 NaT                 NaT   \n",
       "1    2017-01-26 14:44:00 2017-01-26 14:54:00 2017-01-26 15:08:00   \n",
       "2    2017-08-20 08:31:00                 NaT                 NaT   \n",
       "3                    NaT                 NaT                 NaT   \n",
       "4                    NaT                 NaT                 NaT   \n",
       "...                  ...                 ...                 ...   \n",
       "2103                 NaT                 NaT                 NaT   \n",
       "2104                 NaT                 NaT                 NaT   \n",
       "2105                 NaT                 NaT                 NaT   \n",
       "2106                 NaT                 NaT                 NaT   \n",
       "2107                 NaT                 NaT                 NaT   \n",
       "\n",
       "     time_to_purchase  \n",
       "0                 NaT  \n",
       "1     0 days 00:44:00  \n",
       "2                 NaT  \n",
       "3                 NaT  \n",
       "4                 NaT  \n",
       "...               ...  \n",
       "2103              NaT  \n",
       "2104              NaT  \n",
       "2105              NaT  \n",
       "2106              NaT  \n",
       "2107              NaT  \n",
       "\n",
       "[2108 rows x 6 columns]"
      ]
     },
     "execution_count": 82,
     "metadata": {},
     "output_type": "execute_result"
    }
   ],
   "source": [
    "all_data"
   ]
  },
  {
   "cell_type": "markdown",
   "metadata": {},
   "source": [
    "Step 12: Calculating the average time to purchase"
   ]
  },
  {
   "cell_type": "code",
   "execution_count": 83,
   "metadata": {},
   "outputs": [
    {
     "data": {
      "text/plain": [
       "Timedelta('0 days 00:43:12.380952380')"
      ]
     },
     "execution_count": 83,
     "metadata": {},
     "output_type": "execute_result"
    }
   ],
   "source": [
    "average_time_to_purchase = all_data['time_to_purchase'].mean()\n",
    "average_time_to_purchase"
   ]
  },
  {
   "cell_type": "code",
   "execution_count": null,
   "metadata": {},
   "outputs": [],
   "source": []
  }
 ],
 "metadata": {
  "kernelspec": {
   "display_name": "Python 3 (ipykernel)",
   "language": "python",
   "name": "python3"
  },
  "language_info": {
   "codemirror_mode": {
    "name": "ipython",
    "version": 3
   },
   "file_extension": ".py",
   "mimetype": "text/x-python",
   "name": "python",
   "nbconvert_exporter": "python",
   "pygments_lexer": "ipython3",
   "version": "3.11.8"
  }
 },
 "nbformat": 4,
 "nbformat_minor": 4
}
